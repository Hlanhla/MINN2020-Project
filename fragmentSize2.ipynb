{
  "metadata": {
    "language_info": {
      "codemirror_mode": {
        "name": "python",
        "version": 3
      },
      "file_extension": ".py",
      "mimetype": "text/x-python",
      "name": "python",
      "nbconvert_exporter": "python",
      "pygments_lexer": "ipython3",
      "version": "3.8"
    },
    "kernelspec": {
      "name": "python",
      "display_name": "Python (Pyodide)",
      "language": "python"
    }
  },
  "nbformat_minor": 4,
  "nbformat": 4,
  "cells": [
    {
      "cell_type": "code",
      "source": "def chargeLength(BH,SL):\n    charge_length = BH - SL\n    \n    return(charge_length)\n\nBH = float(input(\"enter bench height: \"))\nSL = float(input(\"enter stemming length: \"))\n\nCL = chargeLength(BH,SL)\n\ndef massExplosive(p, D):\n    Mass_explosive = (p*D**2)/1273\n    \n    return(Mass_explosive)\n\np = float(input(\"enter density of explosive: \"))\nD = float(input(\"enter diameter of blast hole: \"))\n\nMoE = massExplosive(p, D)\n\ndef massE_hole(CL,MoE):\n    \n    Mass_blasthole = CL*MoE\n    \n    return(massE_hole(CL,MoE)\n           \nQ = massE_hole\n           \ndef fragmentSize(A,K,Q,E):\n\n    Fragment_size = A*(K**-0.8)*(Q**0.167)*(115/E)**0.6333\n    \n    return(Fragment_size)\n\nA = float(input(\"enter rock factor: \"))\nK = float(input(\"enter powder factor: \"))\nE = float(input(\"enter explosive energy: \"))\n\nprint(fragmentSize(A,K,Q,E))",
      "metadata": {},
      "execution_count": null,
      "outputs": []
    }
  ]
}